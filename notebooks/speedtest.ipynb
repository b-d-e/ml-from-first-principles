{
 "cells": [
  {
   "cell_type": "code",
   "execution_count": 14,
   "metadata": {},
   "outputs": [],
   "source": [
    "from __future__ import annotations\n",
    "\n",
    "import timeit\n",
    "\n",
    "import numpy as np\n",
    "\n",
    "from mlfp.linear_algebra import Matrix\n",
    "\n",
    "# Define the size of the matrices for the tests\n",
    "n = 100\n",
    "\n",
    "# Create test data\n",
    "data_np = np.random.rand(n, n)\n",
    "data_mlfp = [list(row) for row in data_np]"
   ]
  },
  {
   "cell_type": "code",
   "execution_count": 15,
   "metadata": {},
   "outputs": [
    {
     "name": "stdout",
     "output_type": "stream",
     "text": [
      "Matrix creation timing (numpy): 0.000746000005165115\n",
      "Matrix creation timing (mlfp): 2.462499833200127e-05\n",
      "Matrix addition timing (numpy): 0.0003061659954255447\n",
      "Matrix addition timing (mlfp): 0.05240800000319723\n",
      "Matrix multiplication timing (numpy): 0.016511209003510885\n",
      "Matrix multiplication timing (mlfp): 11.73682175000431\n"
     ]
    }
   ],
   "source": [
    "# Matrix creation timing\n",
    "def create_matrix_np():\n",
    "    return np.array(data_np)\n",
    "\n",
    "def create_matrix_mlfp():\n",
    "    return Matrix(data_mlfp)\n",
    "\n",
    "print(\"Matrix creation timing (numpy):\", timeit.timeit(create_matrix_np, number=100))\n",
    "print(\"Matrix creation timing (mlfp):\", timeit.timeit(create_matrix_mlfp, number=100))\n",
    "\n",
    "# Matrix addition timing\n",
    "matrix_np1 = np.array(data_np)\n",
    "matrix_np2 = np.array(data_np)\n",
    "matrix_mlfp1 = Matrix(data_mlfp)\n",
    "matrix_mlfp2 = Matrix(data_mlfp)\n",
    "\n",
    "def add_matrix_np():\n",
    "    return matrix_np1 + matrix_np2\n",
    "\n",
    "def add_matrix_mlfp():\n",
    "    return matrix_mlfp1 + matrix_mlfp2\n",
    "\n",
    "print(\"Matrix addition timing (numpy):\", timeit.timeit(add_matrix_np, number=100))\n",
    "print(\"Matrix addition timing (mlfp):\", timeit.timeit(add_matrix_mlfp, number=100))\n",
    "\n",
    "# Matrix multiplication timing\n",
    "def multiply_matrix_np():\n",
    "    return np.dot(matrix_np1, matrix_np2)\n",
    "\n",
    "def multiply_matrix_mlfp():\n",
    "    return matrix_mlfp1 @ matrix_mlfp2\n",
    "\n",
    "print(\"Matrix multiplication timing (numpy):\", timeit.timeit(multiply_matrix_np, number=100))\n",
    "print(\"Matrix multiplication timing (mlfp):\", timeit.timeit(multiply_matrix_mlfp, number=100))"
   ]
  }
 ],
 "metadata": {
  "kernelspec": {
   "display_name": "Python 3",
   "language": "python",
   "name": "python3"
  },
  "language_info": {
   "codemirror_mode": {
    "name": "ipython",
    "version": 3
   },
   "file_extension": ".py",
   "mimetype": "text/x-python",
   "name": "python",
   "nbconvert_exporter": "python",
   "pygments_lexer": "ipython3",
   "version": "3.12.3"
  }
 },
 "nbformat": 4,
 "nbformat_minor": 2
}
