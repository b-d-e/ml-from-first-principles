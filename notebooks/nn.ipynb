{
 "cells": [
  {
   "cell_type": "code",
   "execution_count": 1,
   "metadata": {},
   "outputs": [],
   "source": [
    "from __future__ import annotations\n",
    "\n",
    "import mlfp.linear_algebra as la\n",
    "from mlfp import activations, nn"
   ]
  },
  {
   "cell_type": "code",
   "execution_count": 2,
   "metadata": {},
   "outputs": [],
   "source": [
    "sigmoid = activations.Sigmoid()\n",
    "# sigmoid\n",
    "layer = nn.Layer(10, 5, sigmoid)"
   ]
  },
  {
   "cell_type": "code",
   "execution_count": 3,
   "metadata": {},
   "outputs": [
    {
     "data": {
      "text/plain": [
       "Layer(weights=Tensor(elements=[[0.7006114880843055, 0.7789774586913438, 0.7260387365042287, 0.5321848543171915, 0.5783725240458196], [0.868106603070411, 0.1802456133538679, 0.7955543622167159, 0.19635133352553713, 0.7975369574596415], [0.42729017324776075, 0.10463464342978712, 0.7990507154776954, 0.00880388789552089, 0.4048238602529346], [0.844531571511803, 0.032530989971365165, 0.940131739448506, 0.18747251603675197, 0.1367496699365981], [0.6870385685041009, 0.9115615760476055, 0.7887935821155833, 0.4930603106663246, 0.3255874925468336], [0.36526575220976754, 0.7477711798423844, 0.6935728939655634, 0.6465335305027253, 0.9250007913013759], [0.995466701260199, 0.06053062915351659, 0.0067197426011964545, 0.30020436054095134, 0.622754238049382], [0.33835685876912214, 0.834332532604119, 0.13235054541037183, 0.5664143217092462, 0.5618404439136837], [0.036763838357903755, 0.6880785247070977, 0.12254757389663629, 0.8389840861151433, 0.21440227022786762], [0.6681532860551409, 0.31460220695562735, 0.7945420654879048, 0.08878214552943742, 0.9268633571553236]]), biases=Tensor(elements=[[0.0, 0.0, 0.0, 0.0, 0.0]])            , activation_function=Sigmoid)"
      ]
     },
     "execution_count": 3,
     "metadata": {},
     "output_type": "execute_result"
    }
   ],
   "source": [
    "layer"
   ]
  },
  {
   "cell_type": "code",
   "execution_count": 4,
   "metadata": {},
   "outputs": [
    {
     "data": {
      "text/plain": [
       "Tensor(elements=[[0.7888532444072738, 0.7914563450154294, 0.8160817819887534, 0.7611481717724893, 0.7880983221014425]])"
      ]
     },
     "execution_count": 4,
     "metadata": {},
     "output_type": "execute_result"
    }
   ],
   "source": [
    "input = la.Tensor(\n",
    "    [[0.3,0.1,0.6,0.4,0.0,0.3,0.1,0.6,0.4,0.0]]\n",
    "    )\n",
    "\n",
    "layer.forward(input)\n",
    "# input"
   ]
  },
  {
   "cell_type": "code",
   "execution_count": 5,
   "metadata": {},
   "outputs": [
    {
     "data": {
      "text/plain": [
       "NeuralNetwork(layers=[Layer(weights=Tensor(elements=[[0.24987962595644098, 0.9329744735268659, 0.8586959891636075, 0.3044819173753419, 0.5844790395256495], [0.7608930160902162, 0.9671198249308932, 0.9529488029126124, 0.9266165402068813, 0.022976559710495503], [0.174962393813341, 0.504640953258327, 0.020749342708097807, 0.6135683336328475, 0.24509566334703892], [0.9327000118869732, 0.7056447255829759, 0.6388416389683943, 0.4431656525193207, 0.7300189078302114], [0.4324101680578488, 0.009046077220054127, 0.49172729479205846, 0.12544273893285418, 0.981773263680884], [0.052681163671774556, 0.611606003720321, 0.2162330942275701, 0.11556656633648654, 0.7357065018433243], [0.02306326816041626, 0.4387387053317421, 0.03813912291490518, 0.26976360255427767, 0.8939279041095732], [0.09011300677066536, 0.3588162624154785, 0.3306793547393416, 0.17291530687455958, 0.7254186462637675], [0.7595539134465065, 0.8291159206111542, 0.6256740275970445, 0.8855929400430088, 0.7579849684371683], [0.882374556402564, 0.8967108034697981, 0.4063978489566118, 0.81014004868401, 0.03315678176781667]]), biases=Tensor(elements=[[0.0, 0.0, 0.0, 0.0, 0.0]])            , activation_function=Sigmoid), Layer(weights=Tensor(elements=[[0.7652582743742049, 0.4267020004785529, 0.20791398147426432, 0.4957326752667378, 0.46852248666265806], [0.5042042038539715, 0.050774243799332375, 0.054640657505912404, 0.2328747914195306, 0.01521839640914957], [0.6672594896320422, 0.19209642092048929, 0.8165690619594, 0.45118455206386876, 0.5306764808611794], [0.5607061286155094, 0.3449132552010624, 0.2924173932100289, 0.6186150274385773, 0.6181724474433589], [0.07271945528963164, 0.615408288948939, 0.6402154161435223, 0.8194091808972216, 0.17103781063691392]]), biases=Tensor(elements=[[0.0, 0.0, 0.0, 0.0, 0.0]])            , activation_function=Sigmoid), Layer(weights=Tensor(elements=[[0.9896128755826097, 0.3715251362883336, 0.6550138276074845], [0.1928568286938389, 0.48982786981063153, 0.0406155403906594], [0.02458260754913566, 0.9722483755975186, 0.3382227299415329], [0.8720677300042637, 0.8948312623708227, 0.8617411494227727], [0.652192270230005, 0.9594062018598352, 0.4371327922309368]]), biases=Tensor(elements=[[0.0, 0.0, 0.0]])            , activation_function=Sigmoid)])"
      ]
     },
     "execution_count": 5,
     "metadata": {},
     "output_type": "execute_result"
    }
   ],
   "source": [
    "l1 = nn.Layer(10, 5, sigmoid)\n",
    "l2 = nn.Layer(5, 5, sigmoid)\n",
    "l3 = nn.Layer(5, 3, sigmoid)\n",
    "\n",
    "network = nn.Network([l1, l2, l3])\n",
    "network"
   ]
  },
  {
   "cell_type": "code",
   "execution_count": 6,
   "metadata": {},
   "outputs": [
    {
     "data": {
      "text/plain": [
       "Tensor(elements=[[0.9119846072629583, 0.9560153422215788, 0.8811679660651695]])"
      ]
     },
     "execution_count": 6,
     "metadata": {},
     "output_type": "execute_result"
    }
   ],
   "source": [
    "network.forward(input)"
   ]
  },
  {
   "cell_type": "code",
   "execution_count": 7,
   "metadata": {},
   "outputs": [
    {
     "data": {
      "text/plain": [
       "Tensor(elements=[[0.32340281015059474, 0.3497357344275351, 0.3268614554218702]])"
      ]
     },
     "execution_count": 7,
     "metadata": {},
     "output_type": "execute_result"
    }
   ],
   "source": [
    "input = la.Tensor(\n",
    "    [[0.3,0.1,0.6,0.4,0.0,0.3,0.1,0.6,0.4,0.0]]\n",
    ")\n",
    "\n",
    "f = activations.Softmax()\n",
    "\n",
    "l1 = nn.Layer(10, 50, f)\n",
    "l2 = nn.Layer(50, 100, f)\n",
    "l3 = nn.Layer(100, 50, f)\n",
    "l4 = nn.Layer(50, 3, f)\n",
    "l5 = nn.Layer(3, 1, f)\n",
    "\n",
    "network = nn.Network([l1, l4])\n",
    "\n",
    "network.forward(input)"
   ]
  },
  {
   "cell_type": "markdown",
   "metadata": {},
   "source": [
    "## Testing Loss"
   ]
  },
  {
   "cell_type": "code",
   "execution_count": 16,
   "metadata": {},
   "outputs": [
    {
     "name": "stdout",
     "output_type": "stream",
     "text": [
      "Mean Squared Error: 0.12000000000000001\n",
      "Mean Squared Error Gradient: Tensor(elements=[-0.19999999999999996, 0.2, -0.4])\n",
      "Cross Entropy Loss: 0.35667494393873245\n",
      "Cross Entropy Gradient: Tensor(elements=[-0.30000000000000004, 0.2, 0.1])\n",
      "Tensor(elements=[[0.0, 1.0, 0.0]])\n",
      "Tensor(elements=[[0.3373485141005906, 0.3290846817821108, 0.3335668041172987]])\n",
      "Network Cross Entropy Loss: 1.1114401699012704\n"
     ]
    }
   ],
   "source": [
    "from mlfp.loss import CrossEntropy, MeanSquaredError\n",
    "\n",
    "# Example true and predicted values for Mean Squared Error\n",
    "y_true_mse = la.Tensor([1.0, 0.0, 1.0])\n",
    "y_pred_mse = la.Tensor([0.8, 0.2, 0.6])\n",
    "\n",
    "# Instantiate the MeanSquaredError loss function\n",
    "mse_loss = MeanSquaredError()\n",
    "\n",
    "# Calculate the loss\n",
    "mse_value = mse_loss(y_true_mse, y_pred_mse)\n",
    "print(\"Mean Squared Error:\", mse_value)\n",
    "\n",
    "# Calculate the gradient\n",
    "mse_grad = mse_loss.gradient(y_true_mse, y_pred_mse)\n",
    "print(\"Mean Squared Error Gradient:\", mse_grad)\n",
    "\n",
    "# Example true and predicted values for Cross Entropy\n",
    "y_true_ce = la.Tensor([1, 0, 0])\n",
    "y_pred_ce = la.Tensor([0.7, 0.2, 0.1])\n",
    "\n",
    "# Instantiate the CrossEntropy loss function\n",
    "ce_loss = CrossEntropy()\n",
    "\n",
    "# Calculate the loss\n",
    "ce_value = ce_loss(y_true_ce, y_pred_ce)\n",
    "print(\"Cross Entropy Loss:\", ce_value)\n",
    "\n",
    "# Calculate the gradient\n",
    "ce_grad = ce_loss.gradient(y_true_ce, y_pred_ce)\n",
    "print(\"Cross Entropy Gradient:\", ce_grad)\n",
    "\n",
    "# Example of running a forward pass through the network and calculating loss\n",
    "input = la.Tensor([[0.3, 0.1, 0.6, 0.4, 0.0, 0.3, 0.1, 0.6, 0.4, 0.0]])\n",
    "\n",
    "# Assuming activation functions and layers are defined\n",
    "f = activations.Softmax()\n",
    "l1 = nn.Layer(10, 50, f)\n",
    "l2 = nn.Layer(50, 100, f)\n",
    "l3 = nn.Layer(100, 50, f)\n",
    "l4 = nn.Layer(50, 3, f)\n",
    "l5 = nn.Layer(3, 1, f)\n",
    "\n",
    "network = nn.Network([l1, l4])\n",
    "\n",
    "# Perform forward pass\n",
    "output = network.forward(input)\n",
    "\n",
    "# Example true output values for the network\n",
    "y_true_network = la.Tensor([[0.0, 1.0, 0.0]]) # needs to be 2d batched\n",
    "                                    # - will this introduce problems?\n",
    "\n",
    "# Calculate loss for the network output using Cross Entropy\n",
    "\n",
    "print(y_true_network)\n",
    "print(output)\n",
    "\n",
    "network_loss = ce_loss(y_true_network, output)\n",
    "print(\"Network Cross Entropy Loss:\", network_loss)\n"
   ]
  }
 ],
 "metadata": {
  "kernelspec": {
   "display_name": "Python 3",
   "language": "python",
   "name": "python3"
  },
  "language_info": {
   "codemirror_mode": {
    "name": "ipython",
    "version": 3
   },
   "file_extension": ".py",
   "mimetype": "text/x-python",
   "name": "python",
   "nbconvert_exporter": "python",
   "pygments_lexer": "ipython3",
   "version": "3.12.3"
  }
 },
 "nbformat": 4,
 "nbformat_minor": 2
}
